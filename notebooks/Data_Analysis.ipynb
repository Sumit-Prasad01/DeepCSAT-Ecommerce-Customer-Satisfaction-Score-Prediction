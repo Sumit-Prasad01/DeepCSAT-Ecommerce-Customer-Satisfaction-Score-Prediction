{
 "cells": [
  {
   "cell_type": "markdown",
   "id": "631c005a",
   "metadata": {},
   "source": [
    "# Data Analysis"
   ]
  },
  {
   "cell_type": "markdown",
   "id": "bcd79816",
   "metadata": {},
   "source": [
    "## Importing Libraries"
   ]
  },
  {
   "cell_type": "code",
   "execution_count": 1,
   "id": "671f3c2a",
   "metadata": {},
   "outputs": [],
   "source": [
    "import pandas as pd\n",
    "import numpy as np\n",
    "import matplotlib.pyplot as plt\n",
    "import seaborn as sns"
   ]
  },
  {
   "cell_type": "markdown",
   "id": "3ced2070",
   "metadata": {},
   "source": [
    "## Loading Dataset"
   ]
  },
  {
   "cell_type": "code",
   "execution_count": 2,
   "id": "981a0525",
   "metadata": {},
   "outputs": [],
   "source": [
    "df  = pd.read_csv(\"../artifacts/raw/eCommerce_Customer_support_data.csv\")"
   ]
  },
  {
   "cell_type": "code",
   "execution_count": 3,
   "id": "13fe84d5",
   "metadata": {},
   "outputs": [
    {
     "data": {
      "text/plain": [
       "(85907, 20)"
      ]
     },
     "execution_count": 3,
     "metadata": {},
     "output_type": "execute_result"
    }
   ],
   "source": [
    "df.shape"
   ]
  },
  {
   "cell_type": "markdown",
   "id": "acf07335",
   "metadata": {},
   "source": [
    "## Dataset Oerview"
   ]
  },
  {
   "cell_type": "code",
   "execution_count": 4,
   "id": "ee41a2d2",
   "metadata": {},
   "outputs": [
    {
     "data": {
      "text/html": [
       "<div>\n",
       "<style scoped>\n",
       "    .dataframe tbody tr th:only-of-type {\n",
       "        vertical-align: middle;\n",
       "    }\n",
       "\n",
       "    .dataframe tbody tr th {\n",
       "        vertical-align: top;\n",
       "    }\n",
       "\n",
       "    .dataframe thead th {\n",
       "        text-align: right;\n",
       "    }\n",
       "</style>\n",
       "<table border=\"1\" class=\"dataframe\">\n",
       "  <thead>\n",
       "    <tr style=\"text-align: right;\">\n",
       "      <th></th>\n",
       "      <th>Unique id</th>\n",
       "      <th>channel_name</th>\n",
       "      <th>category</th>\n",
       "      <th>Sub-category</th>\n",
       "      <th>Customer Remarks</th>\n",
       "      <th>Order_id</th>\n",
       "      <th>order_date_time</th>\n",
       "      <th>Issue_reported at</th>\n",
       "      <th>issue_responded</th>\n",
       "      <th>Survey_response_Date</th>\n",
       "      <th>Customer_City</th>\n",
       "      <th>Product_category</th>\n",
       "      <th>Item_price</th>\n",
       "      <th>connected_handling_time</th>\n",
       "      <th>Agent_name</th>\n",
       "      <th>Supervisor</th>\n",
       "      <th>Manager</th>\n",
       "      <th>Tenure Bucket</th>\n",
       "      <th>Agent Shift</th>\n",
       "      <th>CSAT Score</th>\n",
       "    </tr>\n",
       "  </thead>\n",
       "  <tbody>\n",
       "    <tr>\n",
       "      <th>0</th>\n",
       "      <td>7e9ae164-6a8b-4521-a2d4-58f7c9fff13f</td>\n",
       "      <td>Outcall</td>\n",
       "      <td>Product Queries</td>\n",
       "      <td>Life Insurance</td>\n",
       "      <td>NaN</td>\n",
       "      <td>c27c9bb4-fa36-4140-9f1f-21009254ffdb</td>\n",
       "      <td>NaN</td>\n",
       "      <td>01/08/2023 11:13</td>\n",
       "      <td>01/08/2023 11:47</td>\n",
       "      <td>01-Aug-23</td>\n",
       "      <td>NaN</td>\n",
       "      <td>NaN</td>\n",
       "      <td>NaN</td>\n",
       "      <td>NaN</td>\n",
       "      <td>Richard Buchanan</td>\n",
       "      <td>Mason Gupta</td>\n",
       "      <td>Jennifer Nguyen</td>\n",
       "      <td>On Job Training</td>\n",
       "      <td>Morning</td>\n",
       "      <td>5</td>\n",
       "    </tr>\n",
       "    <tr>\n",
       "      <th>1</th>\n",
       "      <td>b07ec1b0-f376-43b6-86df-ec03da3b2e16</td>\n",
       "      <td>Outcall</td>\n",
       "      <td>Product Queries</td>\n",
       "      <td>Product Specific Information</td>\n",
       "      <td>NaN</td>\n",
       "      <td>d406b0c7-ce17-4654-b9de-f08d421254bd</td>\n",
       "      <td>NaN</td>\n",
       "      <td>01/08/2023 12:52</td>\n",
       "      <td>01/08/2023 12:54</td>\n",
       "      <td>01-Aug-23</td>\n",
       "      <td>NaN</td>\n",
       "      <td>NaN</td>\n",
       "      <td>NaN</td>\n",
       "      <td>NaN</td>\n",
       "      <td>Vicki Collins</td>\n",
       "      <td>Dylan Kim</td>\n",
       "      <td>Michael Lee</td>\n",
       "      <td>&gt;90</td>\n",
       "      <td>Morning</td>\n",
       "      <td>5</td>\n",
       "    </tr>\n",
       "    <tr>\n",
       "      <th>2</th>\n",
       "      <td>200814dd-27c7-4149-ba2b-bd3af3092880</td>\n",
       "      <td>Inbound</td>\n",
       "      <td>Order Related</td>\n",
       "      <td>Installation/demo</td>\n",
       "      <td>NaN</td>\n",
       "      <td>c273368d-b961-44cb-beaf-62d6fd6c00d5</td>\n",
       "      <td>NaN</td>\n",
       "      <td>01/08/2023 20:16</td>\n",
       "      <td>01/08/2023 20:38</td>\n",
       "      <td>01-Aug-23</td>\n",
       "      <td>NaN</td>\n",
       "      <td>NaN</td>\n",
       "      <td>NaN</td>\n",
       "      <td>NaN</td>\n",
       "      <td>Duane Norman</td>\n",
       "      <td>Jackson Park</td>\n",
       "      <td>William Kim</td>\n",
       "      <td>On Job Training</td>\n",
       "      <td>Evening</td>\n",
       "      <td>5</td>\n",
       "    </tr>\n",
       "    <tr>\n",
       "      <th>3</th>\n",
       "      <td>eb0d3e53-c1ca-42d3-8486-e42c8d622135</td>\n",
       "      <td>Inbound</td>\n",
       "      <td>Returns</td>\n",
       "      <td>Reverse Pickup Enquiry</td>\n",
       "      <td>NaN</td>\n",
       "      <td>5aed0059-55a4-4ec6-bb54-97942092020a</td>\n",
       "      <td>NaN</td>\n",
       "      <td>01/08/2023 20:56</td>\n",
       "      <td>01/08/2023 21:16</td>\n",
       "      <td>01-Aug-23</td>\n",
       "      <td>NaN</td>\n",
       "      <td>NaN</td>\n",
       "      <td>NaN</td>\n",
       "      <td>NaN</td>\n",
       "      <td>Patrick Flores</td>\n",
       "      <td>Olivia Wang</td>\n",
       "      <td>John Smith</td>\n",
       "      <td>&gt;90</td>\n",
       "      <td>Evening</td>\n",
       "      <td>5</td>\n",
       "    </tr>\n",
       "    <tr>\n",
       "      <th>4</th>\n",
       "      <td>ba903143-1e54-406c-b969-46c52f92e5df</td>\n",
       "      <td>Inbound</td>\n",
       "      <td>Cancellation</td>\n",
       "      <td>Not Needed</td>\n",
       "      <td>NaN</td>\n",
       "      <td>e8bed5a9-6933-4aff-9dc6-ccefd7dcde59</td>\n",
       "      <td>NaN</td>\n",
       "      <td>01/08/2023 10:30</td>\n",
       "      <td>01/08/2023 10:32</td>\n",
       "      <td>01-Aug-23</td>\n",
       "      <td>NaN</td>\n",
       "      <td>NaN</td>\n",
       "      <td>NaN</td>\n",
       "      <td>NaN</td>\n",
       "      <td>Christopher Sanchez</td>\n",
       "      <td>Austin Johnson</td>\n",
       "      <td>Michael Lee</td>\n",
       "      <td>0-30</td>\n",
       "      <td>Morning</td>\n",
       "      <td>5</td>\n",
       "    </tr>\n",
       "  </tbody>\n",
       "</table>\n",
       "</div>"
      ],
      "text/plain": [
       "                              Unique id channel_name         category  \\\n",
       "0  7e9ae164-6a8b-4521-a2d4-58f7c9fff13f      Outcall  Product Queries   \n",
       "1  b07ec1b0-f376-43b6-86df-ec03da3b2e16      Outcall  Product Queries   \n",
       "2  200814dd-27c7-4149-ba2b-bd3af3092880      Inbound    Order Related   \n",
       "3  eb0d3e53-c1ca-42d3-8486-e42c8d622135      Inbound          Returns   \n",
       "4  ba903143-1e54-406c-b969-46c52f92e5df      Inbound     Cancellation   \n",
       "\n",
       "                   Sub-category Customer Remarks  \\\n",
       "0                Life Insurance              NaN   \n",
       "1  Product Specific Information              NaN   \n",
       "2             Installation/demo              NaN   \n",
       "3        Reverse Pickup Enquiry              NaN   \n",
       "4                    Not Needed              NaN   \n",
       "\n",
       "                               Order_id order_date_time Issue_reported at  \\\n",
       "0  c27c9bb4-fa36-4140-9f1f-21009254ffdb             NaN  01/08/2023 11:13   \n",
       "1  d406b0c7-ce17-4654-b9de-f08d421254bd             NaN  01/08/2023 12:52   \n",
       "2  c273368d-b961-44cb-beaf-62d6fd6c00d5             NaN  01/08/2023 20:16   \n",
       "3  5aed0059-55a4-4ec6-bb54-97942092020a             NaN  01/08/2023 20:56   \n",
       "4  e8bed5a9-6933-4aff-9dc6-ccefd7dcde59             NaN  01/08/2023 10:30   \n",
       "\n",
       "    issue_responded Survey_response_Date Customer_City Product_category  \\\n",
       "0  01/08/2023 11:47            01-Aug-23           NaN              NaN   \n",
       "1  01/08/2023 12:54            01-Aug-23           NaN              NaN   \n",
       "2  01/08/2023 20:38            01-Aug-23           NaN              NaN   \n",
       "3  01/08/2023 21:16            01-Aug-23           NaN              NaN   \n",
       "4  01/08/2023 10:32            01-Aug-23           NaN              NaN   \n",
       "\n",
       "   Item_price  connected_handling_time           Agent_name      Supervisor  \\\n",
       "0         NaN                      NaN     Richard Buchanan     Mason Gupta   \n",
       "1         NaN                      NaN        Vicki Collins       Dylan Kim   \n",
       "2         NaN                      NaN         Duane Norman    Jackson Park   \n",
       "3         NaN                      NaN       Patrick Flores     Olivia Wang   \n",
       "4         NaN                      NaN  Christopher Sanchez  Austin Johnson   \n",
       "\n",
       "           Manager    Tenure Bucket Agent Shift  CSAT Score  \n",
       "0  Jennifer Nguyen  On Job Training     Morning           5  \n",
       "1      Michael Lee              >90     Morning           5  \n",
       "2      William Kim  On Job Training     Evening           5  \n",
       "3       John Smith              >90     Evening           5  \n",
       "4      Michael Lee             0-30     Morning           5  "
      ]
     },
     "execution_count": 4,
     "metadata": {},
     "output_type": "execute_result"
    }
   ],
   "source": [
    "df.head()"
   ]
  },
  {
   "cell_type": "markdown",
   "id": "d8444f3b",
   "metadata": {},
   "source": [
    "## Check for null values"
   ]
  },
  {
   "cell_type": "code",
   "execution_count": 5,
   "id": "c88ea2c7",
   "metadata": {},
   "outputs": [
    {
     "data": {
      "text/plain": [
       "Unique id                      0\n",
       "channel_name                   0\n",
       "category                       0\n",
       "Sub-category                   0\n",
       "Customer Remarks           57165\n",
       "Order_id                   18232\n",
       "order_date_time            68693\n",
       "Issue_reported at              0\n",
       "issue_responded                0\n",
       "Survey_response_Date           0\n",
       "Customer_City              68828\n",
       "Product_category           68711\n",
       "Item_price                 68701\n",
       "connected_handling_time    85665\n",
       "Agent_name                     0\n",
       "Supervisor                     0\n",
       "Manager                        0\n",
       "Tenure Bucket                  0\n",
       "Agent Shift                    0\n",
       "CSAT Score                     0\n",
       "dtype: int64"
      ]
     },
     "execution_count": 5,
     "metadata": {},
     "output_type": "execute_result"
    }
   ],
   "source": [
    "df.isna().sum()"
   ]
  },
  {
   "cell_type": "markdown",
   "id": "1c85eefc",
   "metadata": {},
   "source": [
    "## Drop Unecessary Columns"
   ]
  },
  {
   "cell_type": "code",
   "execution_count": 6,
   "id": "862a3cd7",
   "metadata": {},
   "outputs": [],
   "source": [
    "df = df.drop(columns=['Unique id', 'connected_handling_time'])"
   ]
  },
  {
   "cell_type": "code",
   "execution_count": 7,
   "id": "986a8528",
   "metadata": {},
   "outputs": [
    {
     "data": {
      "text/plain": [
       "(85907, 18)"
      ]
     },
     "execution_count": 7,
     "metadata": {},
     "output_type": "execute_result"
    }
   ],
   "source": [
    "df.shape"
   ]
  },
  {
   "cell_type": "markdown",
   "id": "874a2715",
   "metadata": {},
   "source": [
    "## Dataset information"
   ]
  },
  {
   "cell_type": "code",
   "execution_count": 8,
   "id": "62c6e649",
   "metadata": {},
   "outputs": [
    {
     "name": "stdout",
     "output_type": "stream",
     "text": [
      "<class 'pandas.core.frame.DataFrame'>\n",
      "RangeIndex: 85907 entries, 0 to 85906\n",
      "Data columns (total 18 columns):\n",
      " #   Column                Non-Null Count  Dtype  \n",
      "---  ------                --------------  -----  \n",
      " 0   channel_name          85907 non-null  object \n",
      " 1   category              85907 non-null  object \n",
      " 2   Sub-category          85907 non-null  object \n",
      " 3   Customer Remarks      28742 non-null  object \n",
      " 4   Order_id              67675 non-null  object \n",
      " 5   order_date_time       17214 non-null  object \n",
      " 6   Issue_reported at     85907 non-null  object \n",
      " 7   issue_responded       85907 non-null  object \n",
      " 8   Survey_response_Date  85907 non-null  object \n",
      " 9   Customer_City         17079 non-null  object \n",
      " 10  Product_category      17196 non-null  object \n",
      " 11  Item_price            17206 non-null  float64\n",
      " 12  Agent_name            85907 non-null  object \n",
      " 13  Supervisor            85907 non-null  object \n",
      " 14  Manager               85907 non-null  object \n",
      " 15  Tenure Bucket         85907 non-null  object \n",
      " 16  Agent Shift           85907 non-null  object \n",
      " 17  CSAT Score            85907 non-null  int64  \n",
      "dtypes: float64(1), int64(1), object(16)\n",
      "memory usage: 11.8+ MB\n"
     ]
    }
   ],
   "source": [
    "df.info()"
   ]
  },
  {
   "cell_type": "markdown",
   "id": "15471e31",
   "metadata": {},
   "source": [
    "## Check for duplicates"
   ]
  },
  {
   "cell_type": "code",
   "execution_count": 9,
   "id": "f78a58ef",
   "metadata": {},
   "outputs": [
    {
     "data": {
      "text/plain": [
       "False    85906\n",
       "True         1\n",
       "Name: count, dtype: int64"
      ]
     },
     "execution_count": 9,
     "metadata": {},
     "output_type": "execute_result"
    }
   ],
   "source": [
    "df.duplicated().value_counts()"
   ]
  },
  {
   "cell_type": "markdown",
   "id": "c2df11c8",
   "metadata": {},
   "source": [
    "## Drop Duplicates"
   ]
  },
  {
   "cell_type": "code",
   "execution_count": 10,
   "id": "c9c15d16",
   "metadata": {},
   "outputs": [],
   "source": [
    "df.drop_duplicates(inplace = True)"
   ]
  },
  {
   "cell_type": "code",
   "execution_count": 11,
   "id": "a629fbc2",
   "metadata": {},
   "outputs": [
    {
     "data": {
      "text/plain": [
       "False    85906\n",
       "Name: count, dtype: int64"
      ]
     },
     "execution_count": 11,
     "metadata": {},
     "output_type": "execute_result"
    }
   ],
   "source": [
    "df.duplicated().value_counts()"
   ]
  },
  {
   "cell_type": "code",
   "execution_count": 12,
   "id": "787be702",
   "metadata": {},
   "outputs": [
    {
     "data": {
      "text/plain": [
       "Customer_City           68827\n",
       "Product_category        68710\n",
       "Item_price              68700\n",
       "order_date_time         68692\n",
       "Customer Remarks        57164\n",
       "Order_id                18231\n",
       "category                    0\n",
       "channel_name                0\n",
       "Sub-category                0\n",
       "Issue_reported at           0\n",
       "Survey_response_Date        0\n",
       "issue_responded             0\n",
       "Agent_name                  0\n",
       "Supervisor                  0\n",
       "Manager                     0\n",
       "Tenure Bucket               0\n",
       "Agent Shift                 0\n",
       "CSAT Score                  0\n",
       "dtype: int64"
      ]
     },
     "execution_count": 12,
     "metadata": {},
     "output_type": "execute_result"
    }
   ],
   "source": [
    "df.isnull().sum().sort_values(ascending=False)"
   ]
  },
  {
   "cell_type": "markdown",
   "id": "d50a64d3",
   "metadata": {},
   "source": [
    "## Dropping ***Order ID*** because not required according to this problem statement"
   ]
  },
  {
   "cell_type": "code",
   "execution_count": 13,
   "id": "5176b464",
   "metadata": {},
   "outputs": [],
   "source": [
    "df = df.drop(columns = ['Order_id'])"
   ]
  },
  {
   "cell_type": "code",
   "execution_count": 14,
   "id": "f62335e7",
   "metadata": {},
   "outputs": [
    {
     "data": {
      "text/plain": [
       "(85906, 17)"
      ]
     },
     "execution_count": 14,
     "metadata": {},
     "output_type": "execute_result"
    }
   ],
   "source": [
    "df.shape"
   ]
  },
  {
   "cell_type": "markdown",
   "id": "c4c44224",
   "metadata": {},
   "source": [
    "## Filtering out ***Categorical columns***"
   ]
  },
  {
   "cell_type": "code",
   "execution_count": 15,
   "id": "e39f7a1d",
   "metadata": {},
   "outputs": [],
   "source": [
    "categorical_cols= df.select_dtypes(include=['object', 'category'])"
   ]
  },
  {
   "cell_type": "code",
   "execution_count": 16,
   "id": "23adf3a3",
   "metadata": {},
   "outputs": [],
   "source": [
    "categorical_cols_list = categorical_cols.columns.tolist()"
   ]
  },
  {
   "cell_type": "code",
   "execution_count": 17,
   "id": "2d960f70",
   "metadata": {},
   "outputs": [
    {
     "data": {
      "text/plain": [
       "['channel_name',\n",
       " 'category',\n",
       " 'Sub-category',\n",
       " 'Customer Remarks',\n",
       " 'order_date_time',\n",
       " 'Issue_reported at',\n",
       " 'issue_responded',\n",
       " 'Survey_response_Date',\n",
       " 'Customer_City',\n",
       " 'Product_category',\n",
       " 'Agent_name',\n",
       " 'Supervisor',\n",
       " 'Manager',\n",
       " 'Tenure Bucket',\n",
       " 'Agent Shift']"
      ]
     },
     "execution_count": 17,
     "metadata": {},
     "output_type": "execute_result"
    }
   ],
   "source": [
    "categorical_cols_list"
   ]
  },
  {
   "cell_type": "markdown",
   "id": "a2dd4245",
   "metadata": {},
   "source": [
    "## Getting overview of all ***Categoraical Columns***"
   ]
  },
  {
   "cell_type": "code",
   "execution_count": 18,
   "id": "02910b38",
   "metadata": {},
   "outputs": [
    {
     "name": "stdout",
     "output_type": "stream",
     "text": [
      "\n",
      "--- Value Counts for Column: 'channel_name' ---\n",
      "channel_name\n",
      "Inbound    68141\n",
      "Outcall    14742\n",
      "Email       3023\n",
      "Name: count, dtype: int64\n",
      "\n",
      "--- Value Counts for Column: 'category' ---\n",
      "category\n",
      "Returns               44097\n",
      "Order Related         23214\n",
      "Refund Related         4550\n",
      "Product Queries        3692\n",
      "Shopzilla Related      2792\n",
      "Payments related       2327\n",
      "Feedback               2294\n",
      "Cancellation           2212\n",
      "Offers & Cashback       480\n",
      "Others                   99\n",
      "App/website              84\n",
      "Onboarding related       65\n",
      "Name: count, dtype: int64\n",
      "\n",
      "--- Value Counts for Column: 'Sub-category' ---\n",
      "Sub-category\n",
      "Reverse Pickup Enquiry              22389\n",
      "Return request                       8523\n",
      "Delayed                              7388\n",
      "Order status enquiry                 6922\n",
      "Installation/demo                    4115\n",
      "Fraudulent User                      4108\n",
      "Product Specific Information         3589\n",
      "Refund Enquiry                       2665\n",
      "Wrong                                2597\n",
      "Missing                              2556\n",
      "UnProfessional Behaviour             2294\n",
      "General Enquiry                      1945\n",
      "Not Needed                           1920\n",
      "Service Centres Related              1875\n",
      "Refund Related Issues                1800\n",
      "Invoice request                      1465\n",
      "Online Payment Issues                1079\n",
      "Seller Cancelled Order               1059\n",
      "Priority delivery                     972\n",
      "Exchange / Replacement                896\n",
      "Customer Requested Modifications      805\n",
      "Payment related Queries               743\n",
      "Signup Issues                         489\n",
      "Damaged                               475\n",
      "Technician Visit                      378\n",
      "Shopzila Premium Related              361\n",
      "Return cancellation                   292\n",
      "Wallet related                        230\n",
      "Other Cashback                        219\n",
      "Product related Issues                183\n",
      "Affiliate Offers                      183\n",
      "Unable to track                       164\n",
      "Account updation                      150\n",
      "PayLater related                      140\n",
      "COD Refund Details                     85\n",
      "Shopzilla Rewards                      80\n",
      "Instant discount                       78\n",
      "Warranty related                       78\n",
      "Issues with Shopzilla App              74\n",
      "Order Verification                     72\n",
      "Seller onboarding                      62\n",
      "Service Center - Service Denial        58\n",
      "Billing Related                        57\n",
      "Self-Help                              49\n",
      "Call back request                      46\n",
      "e-Gift Voucher                         42\n",
      "Call disconnected                      40\n",
      "Life Insurance                         23\n",
      "Other Account Related Issues           22\n",
      "Card/EMI                               19\n",
      "Payment pending                        17\n",
      "Others                                 12\n",
      "App/website Related                    10\n",
      "Unable to Login                         7\n",
      "Commission related                      3\n",
      "Policy Related                          2\n",
      "Non Order related                       1\n",
      "Name: count, dtype: int64\n",
      "\n",
      "--- Value Counts for Column: 'Customer Remarks' ---\n",
      "Customer Remarks\n",
      "Good                                                                                                1390\n",
      "Good                                                                                                1158\n",
      "Very good                                                                                            569\n",
      "Nice                                                                                                 316\n",
      "Thanks                                                                                               276\n",
      "                                                                                                    ... \n",
      "Nk                                                                                                     1\n",
      "Noise watch not restart                                                                                1\n",
      "No any response my orderVery bad costumer service                                                      1\n",
      "Small product is take so much time and my order is ariving 2 aug but suddanly is change to 5 aug       1\n",
      "Outstanding & Superb Shopzilla costomer sport by Puja great ??                                         1\n",
      "Name: count, Length: 18231, dtype: int64\n",
      "\n",
      "--- Value Counts for Column: 'order_date_time' ---\n",
      "order_date_time\n",
      "09/08/2023 11:55    7\n",
      "05/08/2023 20:14    6\n",
      "07/08/2023 08:29    5\n",
      "08/08/2023 10:57    5\n",
      "05/08/2023 12:29    5\n",
      "                   ..\n",
      "18/08/2023 15:03    1\n",
      "18/07/2023 10:12    1\n",
      "22/08/2023 21:58    1\n",
      "29/08/2023 12:28    1\n",
      "29/08/2023 13:12    1\n",
      "Name: count, Length: 13766, dtype: int64\n",
      "\n",
      "--- Value Counts for Column: 'Issue_reported at' ---\n",
      "Issue_reported at\n",
      "13/08/2023 10:40    13\n",
      "15/08/2023 10:59    13\n",
      "14/08/2023 12:08    12\n",
      "06/08/2023 18:22    12\n",
      "28/08/2023 12:35    11\n",
      "                    ..\n",
      "31/08/2023 20:50     1\n",
      "31/08/2023 17:32     1\n",
      "31/08/2023 22:26     1\n",
      "31/08/2023 18:25     1\n",
      "31/08/2023 07:52     1\n",
      "Name: count, Length: 30923, dtype: int64\n",
      "\n",
      "--- Value Counts for Column: 'issue_responded' ---\n",
      "issue_responded\n",
      "28/08/2023 00:00    3378\n",
      "27/08/2023 00:00      21\n",
      "08/08/2023 17:51      13\n",
      "09/08/2023 11:17      12\n",
      "16/08/2023 13:24      12\n",
      "                    ... \n",
      "31/08/2023 13:53       1\n",
      "31/08/2023 20:52       1\n",
      "31/08/2023 10:48       1\n",
      "31/08/2023 10:58       1\n",
      "31/08/2023 22:16       1\n",
      "Name: count, Length: 30262, dtype: int64\n",
      "\n",
      "--- Value Counts for Column: 'Survey_response_Date' ---\n",
      "Survey_response_Date\n",
      "28-Aug-23    3452\n",
      "27-Aug-23    3379\n",
      "17-Aug-23    3193\n",
      "29-Aug-23    3188\n",
      "07-Aug-23    3014\n",
      "22-Aug-23    3005\n",
      "08-Aug-23    3000\n",
      "26-Aug-23    2990\n",
      "10-Aug-23    2989\n",
      "24-Aug-23    2962\n",
      "23-Aug-23    2944\n",
      "14-Aug-23    2927\n",
      "11-Aug-23    2894\n",
      "16-Aug-23    2885\n",
      "12-Aug-23    2841\n",
      "09-Aug-23    2823\n",
      "15-Aug-23    2819\n",
      "13-Aug-23    2758\n",
      "30-Aug-23    2757\n",
      "18-Aug-23    2605\n",
      "25-Aug-23    2550\n",
      "04-Aug-23    2522\n",
      "21-Aug-23    2510\n",
      "19-Aug-23    2496\n",
      "06-Aug-23    2490\n",
      "03-Aug-23    2467\n",
      "31-Aug-23    2389\n",
      "02-Aug-23    2330\n",
      "05-Aug-23    2283\n",
      "01-Aug-23    2231\n",
      "20-Aug-23    2213\n",
      "Name: count, dtype: int64\n",
      "\n",
      "--- Value Counts for Column: 'Customer_City' ---\n",
      "Customer_City\n",
      "HYDERABAD    722\n",
      "NEW DELHI    688\n",
      "PUNE         435\n",
      "MUMBAI       406\n",
      "BANGALORE    352\n",
      "            ... \n",
      "PATHARIA       1\n",
      "GHANSORE       1\n",
      "CURCHOREM      1\n",
      "ALANGUDI       1\n",
      "CONTAI         1\n",
      "Name: count, Length: 1782, dtype: int64\n",
      "\n",
      "--- Value Counts for Column: 'Product_category' ---\n",
      "Product_category\n",
      "Electronics                    4706\n",
      "LifeStyle                      4118\n",
      "Books & General merchandise    3323\n",
      "Mobile                         1758\n",
      "Home                           1328\n",
      "Home Appliences                1300\n",
      "Furniture                       471\n",
      "Affiliates                      166\n",
      "GiftCard                         26\n",
      "Name: count, dtype: int64\n",
      "\n",
      "--- Value Counts for Column: 'Agent_name' ---\n",
      "Agent_name\n",
      "Wendy Taylor       429\n",
      "Timothy Huff       265\n",
      "David Smith        264\n",
      "Jamie Smith        253\n",
      "Kayla Wilson       216\n",
      "                  ... \n",
      "Robin Spencer       20\n",
      "James Blevins       20\n",
      "Karen Martin        20\n",
      "Amy Bell            20\n",
      "Samantha Harmon     20\n",
      "Name: count, Length: 1371, dtype: int64\n",
      "\n",
      "--- Value Counts for Column: 'Supervisor' ---\n",
      "Supervisor\n",
      "Carter Park         4273\n",
      "Elijah Yamaguchi    3855\n",
      "Zoe Yamamoto        3551\n",
      "Nathan Patel        3549\n",
      "Noah Patel          3433\n",
      "Ava Wong            3373\n",
      "Emma Park           3290\n",
      "Mia Patel           3279\n",
      "Evelyn Kimura       2974\n",
      "Aiden Patel         2892\n",
      "Madison Kim         2772\n",
      "William Park        2692\n",
      "Scarlett Chen       2676\n",
      "Emily Yamashita     2581\n",
      "Jackson Park        2571\n",
      "Brayden Wong        2540\n",
      "Logan Lee           2466\n",
      "Olivia Wang         2233\n",
      "Abigail Suzuki      2222\n",
      "Olivia Suzuki       2193\n",
      "Mason Gupta         2109\n",
      "Lily Chen           1869\n",
      "Ethan Tan           1831\n",
      "Wyatt Kim           1727\n",
      "Austin Johnson      1723\n",
      "Sophia Sato         1671\n",
      "Landon Tanaka       1635\n",
      "Ethan Nakamura      1584\n",
      "Jacob Sato          1501\n",
      "Amelia Tanaka       1364\n",
      "Alexander Tanaka    1320\n",
      "Lucas Singh         1285\n",
      "Dylan Kim           1197\n",
      "Charlotte Suzuki    1172\n",
      "Harper Wong         1119\n",
      "Isabella Wong       1081\n",
      "Layla Taniguchi      924\n",
      "Mia Yamamoto         625\n",
      "Oliver Nguyen        417\n",
      "Sophia Chen          337\n",
      "Name: count, dtype: int64\n",
      "\n",
      "--- Value Counts for Column: 'Manager' ---\n",
      "Manager\n",
      "John Smith         25261\n",
      "Michael Lee        17599\n",
      "Jennifer Nguyen    15897\n",
      "Emily Chen         14062\n",
      "William Kim         8568\n",
      "Olivia Tan          4519\n",
      "Name: count, dtype: int64\n",
      "\n",
      "--- Value Counts for Column: 'Tenure Bucket' ---\n",
      "Tenure Bucket\n",
      ">90                30659\n",
      "On Job Training    25523\n",
      "31-60              11665\n",
      "0-30               11318\n",
      "61-90               6741\n",
      "Name: count, dtype: int64\n",
      "\n",
      "--- Value Counts for Column: 'Agent Shift' ---\n",
      "Agent Shift\n",
      "Morning      41425\n",
      "Evening      33677\n",
      "Afternoon     5840\n",
      "Split         3648\n",
      "Night         1316\n",
      "Name: count, dtype: int64\n"
     ]
    }
   ],
   "source": [
    "for col in categorical_cols_list:\n",
    "    print(f\"\\n--- Value Counts for Column: '{col}' ---\")\n",
    "    # Store the result in a variable and print it\n",
    "    counts = df[col].value_counts()\n",
    "    print(counts)"
   ]
  },
  {
   "cell_type": "markdown",
   "id": "3a142ead",
   "metadata": {},
   "source": [
    "## Filtering out all numerical columns"
   ]
  },
  {
   "cell_type": "code",
   "execution_count": 19,
   "id": "319bfd1d",
   "metadata": {},
   "outputs": [],
   "source": [
    "numerical_cols= df.select_dtypes(include=['int64', 'float64'])"
   ]
  },
  {
   "cell_type": "code",
   "execution_count": 20,
   "id": "74b3a085",
   "metadata": {},
   "outputs": [],
   "source": [
    "numerical_cols_list = numerical_cols.columns.tolist()"
   ]
  },
  {
   "cell_type": "code",
   "execution_count": 21,
   "id": "c01b7070",
   "metadata": {},
   "outputs": [
    {
     "data": {
      "text/plain": [
       "['Item_price', 'CSAT Score']"
      ]
     },
     "execution_count": 21,
     "metadata": {},
     "output_type": "execute_result"
    }
   ],
   "source": [
    "numerical_cols_list"
   ]
  },
  {
   "cell_type": "markdown",
   "id": "8044d38b",
   "metadata": {},
   "source": [
    "## Describing ***Numerical features***"
   ]
  },
  {
   "cell_type": "code",
   "execution_count": 22,
   "id": "5646ffd1",
   "metadata": {},
   "outputs": [
    {
     "data": {
      "text/html": [
       "<div>\n",
       "<style scoped>\n",
       "    .dataframe tbody tr th:only-of-type {\n",
       "        vertical-align: middle;\n",
       "    }\n",
       "\n",
       "    .dataframe tbody tr th {\n",
       "        vertical-align: top;\n",
       "    }\n",
       "\n",
       "    .dataframe thead th {\n",
       "        text-align: right;\n",
       "    }\n",
       "</style>\n",
       "<table border=\"1\" class=\"dataframe\">\n",
       "  <thead>\n",
       "    <tr style=\"text-align: right;\">\n",
       "      <th></th>\n",
       "      <th>Item_price</th>\n",
       "      <th>CSAT Score</th>\n",
       "    </tr>\n",
       "  </thead>\n",
       "  <tbody>\n",
       "    <tr>\n",
       "      <th>count</th>\n",
       "      <td>17206.000000</td>\n",
       "      <td>85906.000000</td>\n",
       "    </tr>\n",
       "    <tr>\n",
       "      <th>mean</th>\n",
       "      <td>5660.774846</td>\n",
       "      <td>4.242148</td>\n",
       "    </tr>\n",
       "    <tr>\n",
       "      <th>std</th>\n",
       "      <td>12825.728411</td>\n",
       "      <td>1.378909</td>\n",
       "    </tr>\n",
       "    <tr>\n",
       "      <th>min</th>\n",
       "      <td>0.000000</td>\n",
       "      <td>1.000000</td>\n",
       "    </tr>\n",
       "    <tr>\n",
       "      <th>25%</th>\n",
       "      <td>392.000000</td>\n",
       "      <td>4.000000</td>\n",
       "    </tr>\n",
       "    <tr>\n",
       "      <th>50%</th>\n",
       "      <td>979.000000</td>\n",
       "      <td>5.000000</td>\n",
       "    </tr>\n",
       "    <tr>\n",
       "      <th>75%</th>\n",
       "      <td>2699.750000</td>\n",
       "      <td>5.000000</td>\n",
       "    </tr>\n",
       "    <tr>\n",
       "      <th>max</th>\n",
       "      <td>164999.000000</td>\n",
       "      <td>5.000000</td>\n",
       "    </tr>\n",
       "  </tbody>\n",
       "</table>\n",
       "</div>"
      ],
      "text/plain": [
       "          Item_price    CSAT Score\n",
       "count   17206.000000  85906.000000\n",
       "mean     5660.774846      4.242148\n",
       "std     12825.728411      1.378909\n",
       "min         0.000000      1.000000\n",
       "25%       392.000000      4.000000\n",
       "50%       979.000000      5.000000\n",
       "75%      2699.750000      5.000000\n",
       "max    164999.000000      5.000000"
      ]
     },
     "execution_count": 22,
     "metadata": {},
     "output_type": "execute_result"
    }
   ],
   "source": [
    "df.describe()"
   ]
  },
  {
   "cell_type": "markdown",
   "id": "30b561cd",
   "metadata": {},
   "source": [
    "# **Handling all missing values**"
   ]
  },
  {
   "cell_type": "markdown",
   "id": "e3cabcdd",
   "metadata": {},
   "source": [
    "## Filling out all categorical missing vales with their ***Mode(Most frequent values)***"
   ]
  },
  {
   "cell_type": "code",
   "execution_count": 23,
   "id": "c181af42",
   "metadata": {},
   "outputs": [],
   "source": [
    "for col in categorical_cols:\n",
    "    df[col] = df[col].fillna(df[col].mode()[0] if df[col].mode().size > 0 else 'Unknown')"
   ]
  },
  {
   "cell_type": "code",
   "execution_count": 24,
   "id": "75c10d9e",
   "metadata": {},
   "outputs": [],
   "source": [
    "df['Customer Remarks'] = df['Customer Remarks'].fillna('No remarks')"
   ]
  },
  {
   "cell_type": "markdown",
   "id": "8075310d",
   "metadata": {},
   "source": [
    "## Fill datetime columns"
   ]
  },
  {
   "cell_type": "markdown",
   "id": "77e654b0",
   "metadata": {},
   "source": [
    "### Convert date columns safely and consistently"
   ]
  },
  {
   "cell_type": "code",
   "execution_count": 25,
   "id": "0c7c0596",
   "metadata": {},
   "outputs": [],
   "source": [
    "df['order_date_time'] = pd.to_datetime(df['order_date_time'], format='mixed', errors='coerce')\n",
    "df['Issue_reported at'] = pd.to_datetime(df['Issue_reported at'], format='mixed', errors='coerce')\n",
    "df['issue_responded'] = pd.to_datetime(df['issue_responded'], format='mixed', errors='coerce')\n",
    "df['Survey_response_Date'] = pd.to_datetime(df['Survey_response_Date'], format='mixed', errors='coerce')"
   ]
  },
  {
   "cell_type": "markdown",
   "id": "fa171ce1",
   "metadata": {},
   "source": [
    "## Fill numeric columns"
   ]
  },
  {
   "cell_type": "code",
   "execution_count": 26,
   "id": "96785785",
   "metadata": {},
   "outputs": [],
   "source": [
    "df['Item_price'] = df['Item_price'].fillna(df['Item_price'].median())"
   ]
  },
  {
   "cell_type": "code",
   "execution_count": 27,
   "id": "6c7bac9e",
   "metadata": {},
   "outputs": [
    {
     "data": {
      "text/plain": [
       "channel_name            0\n",
       "category                0\n",
       "Sub-category            0\n",
       "Customer Remarks        0\n",
       "order_date_time         0\n",
       "Issue_reported at       0\n",
       "issue_responded         0\n",
       "Survey_response_Date    0\n",
       "Customer_City           0\n",
       "Product_category        0\n",
       "Item_price              0\n",
       "Agent_name              0\n",
       "Supervisor              0\n",
       "Manager                 0\n",
       "Tenure Bucket           0\n",
       "Agent Shift             0\n",
       "CSAT Score              0\n",
       "dtype: int64"
      ]
     },
     "execution_count": 27,
     "metadata": {},
     "output_type": "execute_result"
    }
   ],
   "source": [
    "df.isna().sum()"
   ]
  },
  {
   "cell_type": "markdown",
   "id": "72362d52",
   "metadata": {},
   "source": [
    "## Fill logically"
   ]
  },
  {
   "cell_type": "code",
   "execution_count": 28,
   "id": "99a85123",
   "metadata": {},
   "outputs": [],
   "source": [
    "df['Issue_reported at'] = df['Issue_reported at'].fillna(df['order_date_time'])\n",
    "median_response_time = (df['issue_responded'] - df['Issue_reported at']).median()\n",
    "df['issue_responded'] = df['issue_responded'].fillna(df['Issue_reported at'] + median_response_time)\n",
    "df['order_date_time'] = df['order_date_time'].fillna(df['Issue_reported at'])"
   ]
  },
  {
   "cell_type": "code",
   "execution_count": 29,
   "id": "f45b7360",
   "metadata": {},
   "outputs": [
    {
     "data": {
      "text/plain": [
       "channel_name            0\n",
       "category                0\n",
       "Sub-category            0\n",
       "Customer Remarks        0\n",
       "order_date_time         0\n",
       "Issue_reported at       0\n",
       "issue_responded         0\n",
       "Survey_response_Date    0\n",
       "Customer_City           0\n",
       "Product_category        0\n",
       "Item_price              0\n",
       "Agent_name              0\n",
       "Supervisor              0\n",
       "Manager                 0\n",
       "Tenure Bucket           0\n",
       "Agent Shift             0\n",
       "CSAT Score              0\n",
       "dtype: int64"
      ]
     },
     "execution_count": 29,
     "metadata": {},
     "output_type": "execute_result"
    }
   ],
   "source": [
    "df.isna().sum()"
   ]
  },
  {
   "cell_type": "code",
   "execution_count": 30,
   "id": "1c747979",
   "metadata": {},
   "outputs": [],
   "source": [
    "df['missing_order_time'] = df['order_date_time'].isna().astype(int)\n",
    "df['missing_report_time'] = df['Issue_reported at'].isna().astype(int)\n",
    "df['missing_response_time'] = df['issue_responded'].isna().astype(int)"
   ]
  },
  {
   "cell_type": "markdown",
   "id": "a9626018",
   "metadata": {},
   "source": [
    "# **Impute (Fill) Missing Dates for Numeric Feature Engineering**"
   ]
  },
  {
   "cell_type": "markdown",
   "id": "226f428d",
   "metadata": {},
   "source": [
    "## Median response delay"
   ]
  },
  {
   "cell_type": "code",
   "execution_count": 31,
   "id": "0df4a1ef",
   "metadata": {},
   "outputs": [],
   "source": [
    "median_response_time = (df['issue_responded'] - df['Issue_reported at']).median()"
   ]
  },
  {
   "cell_type": "markdown",
   "id": "b86146be",
   "metadata": {},
   "source": [
    "## Impute logically"
   ]
  },
  {
   "cell_type": "code",
   "execution_count": 32,
   "id": "2af9e0b2",
   "metadata": {},
   "outputs": [],
   "source": [
    "df['Issue_reported at'] = df['Issue_reported at'].fillna(df['order_date_time'])\n",
    "df['issue_responded'] = df['issue_responded'].fillna(df['Issue_reported at'] + median_response_time)\n",
    "df['order_date_time'] = df['order_date_time'].fillna(df['Issue_reported at'])"
   ]
  },
  {
   "cell_type": "markdown",
   "id": "7aba2351",
   "metadata": {},
   "source": [
    "# **Derive Time-Based Predictive Features**"
   ]
  },
  {
   "cell_type": "code",
   "execution_count": 33,
   "id": "bc59d015",
   "metadata": {},
   "outputs": [],
   "source": [
    "df['response_time_hours'] = (df['issue_responded'] - df['Issue_reported at']).dt.total_seconds() / 3600\n",
    "df['order_to_issue_hours'] = (df['Issue_reported at'] - df['order_date_time']).dt.total_seconds() / 3600\n",
    "df['survey_delay_hours'] = (pd.to_datetime(df['Survey_response_Date'], errors='coerce') - df['issue_responded']).dt.total_seconds() / 3600"
   ]
  },
  {
   "cell_type": "markdown",
   "id": "8a7b0340",
   "metadata": {},
   "source": [
    "# Fill remaining **NaNs**"
   ]
  },
  {
   "cell_type": "code",
   "execution_count": 34,
   "id": "3aa38f05",
   "metadata": {},
   "outputs": [],
   "source": [
    "df[['response_time_hours', 'order_to_issue_hours', 'survey_delay_hours']] = df[['response_time_hours', 'order_to_issue_hours', 'survey_delay_hours']].fillna(0)"
   ]
  },
  {
   "cell_type": "code",
   "execution_count": 35,
   "id": "953cac9a",
   "metadata": {},
   "outputs": [
    {
     "data": {
      "text/html": [
       "<div>\n",
       "<style scoped>\n",
       "    .dataframe tbody tr th:only-of-type {\n",
       "        vertical-align: middle;\n",
       "    }\n",
       "\n",
       "    .dataframe tbody tr th {\n",
       "        vertical-align: top;\n",
       "    }\n",
       "\n",
       "    .dataframe thead th {\n",
       "        text-align: right;\n",
       "    }\n",
       "</style>\n",
       "<table border=\"1\" class=\"dataframe\">\n",
       "  <thead>\n",
       "    <tr style=\"text-align: right;\">\n",
       "      <th></th>\n",
       "      <th>channel_name</th>\n",
       "      <th>category</th>\n",
       "      <th>Sub-category</th>\n",
       "      <th>Customer Remarks</th>\n",
       "      <th>order_date_time</th>\n",
       "      <th>Issue_reported at</th>\n",
       "      <th>issue_responded</th>\n",
       "      <th>Survey_response_Date</th>\n",
       "      <th>Customer_City</th>\n",
       "      <th>Product_category</th>\n",
       "      <th>...</th>\n",
       "      <th>Manager</th>\n",
       "      <th>Tenure Bucket</th>\n",
       "      <th>Agent Shift</th>\n",
       "      <th>CSAT Score</th>\n",
       "      <th>missing_order_time</th>\n",
       "      <th>missing_report_time</th>\n",
       "      <th>missing_response_time</th>\n",
       "      <th>response_time_hours</th>\n",
       "      <th>order_to_issue_hours</th>\n",
       "      <th>survey_delay_hours</th>\n",
       "    </tr>\n",
       "  </thead>\n",
       "  <tbody>\n",
       "    <tr>\n",
       "      <th>0</th>\n",
       "      <td>Outcall</td>\n",
       "      <td>Product Queries</td>\n",
       "      <td>Life Insurance</td>\n",
       "      <td>Good</td>\n",
       "      <td>2023-09-08 11:55:00</td>\n",
       "      <td>2023-01-08 11:13:00</td>\n",
       "      <td>2023-01-08 11:47:00</td>\n",
       "      <td>2023-08-01</td>\n",
       "      <td>HYDERABAD</td>\n",
       "      <td>Electronics</td>\n",
       "      <td>...</td>\n",
       "      <td>Jennifer Nguyen</td>\n",
       "      <td>On Job Training</td>\n",
       "      <td>Morning</td>\n",
       "      <td>5</td>\n",
       "      <td>0</td>\n",
       "      <td>0</td>\n",
       "      <td>0</td>\n",
       "      <td>0.566667</td>\n",
       "      <td>-5832.700000</td>\n",
       "      <td>4908.216667</td>\n",
       "    </tr>\n",
       "    <tr>\n",
       "      <th>1</th>\n",
       "      <td>Outcall</td>\n",
       "      <td>Product Queries</td>\n",
       "      <td>Product Specific Information</td>\n",
       "      <td>Good</td>\n",
       "      <td>2023-09-08 11:55:00</td>\n",
       "      <td>2023-01-08 12:52:00</td>\n",
       "      <td>2023-01-08 12:54:00</td>\n",
       "      <td>2023-08-01</td>\n",
       "      <td>HYDERABAD</td>\n",
       "      <td>Electronics</td>\n",
       "      <td>...</td>\n",
       "      <td>Michael Lee</td>\n",
       "      <td>&gt;90</td>\n",
       "      <td>Morning</td>\n",
       "      <td>5</td>\n",
       "      <td>0</td>\n",
       "      <td>0</td>\n",
       "      <td>0</td>\n",
       "      <td>0.033333</td>\n",
       "      <td>-5831.050000</td>\n",
       "      <td>4907.100000</td>\n",
       "    </tr>\n",
       "    <tr>\n",
       "      <th>2</th>\n",
       "      <td>Inbound</td>\n",
       "      <td>Order Related</td>\n",
       "      <td>Installation/demo</td>\n",
       "      <td>Good</td>\n",
       "      <td>2023-09-08 11:55:00</td>\n",
       "      <td>2023-01-08 20:16:00</td>\n",
       "      <td>2023-01-08 20:38:00</td>\n",
       "      <td>2023-08-01</td>\n",
       "      <td>HYDERABAD</td>\n",
       "      <td>Electronics</td>\n",
       "      <td>...</td>\n",
       "      <td>William Kim</td>\n",
       "      <td>On Job Training</td>\n",
       "      <td>Evening</td>\n",
       "      <td>5</td>\n",
       "      <td>0</td>\n",
       "      <td>0</td>\n",
       "      <td>0</td>\n",
       "      <td>0.366667</td>\n",
       "      <td>-5823.650000</td>\n",
       "      <td>4899.366667</td>\n",
       "    </tr>\n",
       "    <tr>\n",
       "      <th>3</th>\n",
       "      <td>Inbound</td>\n",
       "      <td>Returns</td>\n",
       "      <td>Reverse Pickup Enquiry</td>\n",
       "      <td>Good</td>\n",
       "      <td>2023-09-08 11:55:00</td>\n",
       "      <td>2023-01-08 20:56:00</td>\n",
       "      <td>2023-01-08 21:16:00</td>\n",
       "      <td>2023-08-01</td>\n",
       "      <td>HYDERABAD</td>\n",
       "      <td>Electronics</td>\n",
       "      <td>...</td>\n",
       "      <td>John Smith</td>\n",
       "      <td>&gt;90</td>\n",
       "      <td>Evening</td>\n",
       "      <td>5</td>\n",
       "      <td>0</td>\n",
       "      <td>0</td>\n",
       "      <td>0</td>\n",
       "      <td>0.333333</td>\n",
       "      <td>-5822.983333</td>\n",
       "      <td>4898.733333</td>\n",
       "    </tr>\n",
       "    <tr>\n",
       "      <th>4</th>\n",
       "      <td>Inbound</td>\n",
       "      <td>Cancellation</td>\n",
       "      <td>Not Needed</td>\n",
       "      <td>Good</td>\n",
       "      <td>2023-09-08 11:55:00</td>\n",
       "      <td>2023-01-08 10:30:00</td>\n",
       "      <td>2023-01-08 10:32:00</td>\n",
       "      <td>2023-08-01</td>\n",
       "      <td>HYDERABAD</td>\n",
       "      <td>Electronics</td>\n",
       "      <td>...</td>\n",
       "      <td>Michael Lee</td>\n",
       "      <td>0-30</td>\n",
       "      <td>Morning</td>\n",
       "      <td>5</td>\n",
       "      <td>0</td>\n",
       "      <td>0</td>\n",
       "      <td>0</td>\n",
       "      <td>0.033333</td>\n",
       "      <td>-5833.416667</td>\n",
       "      <td>4909.466667</td>\n",
       "    </tr>\n",
       "  </tbody>\n",
       "</table>\n",
       "<p>5 rows × 23 columns</p>\n",
       "</div>"
      ],
      "text/plain": [
       "  channel_name         category                  Sub-category  \\\n",
       "0      Outcall  Product Queries                Life Insurance   \n",
       "1      Outcall  Product Queries  Product Specific Information   \n",
       "2      Inbound    Order Related             Installation/demo   \n",
       "3      Inbound          Returns        Reverse Pickup Enquiry   \n",
       "4      Inbound     Cancellation                    Not Needed   \n",
       "\n",
       "  Customer Remarks     order_date_time   Issue_reported at  \\\n",
       "0            Good  2023-09-08 11:55:00 2023-01-08 11:13:00   \n",
       "1            Good  2023-09-08 11:55:00 2023-01-08 12:52:00   \n",
       "2            Good  2023-09-08 11:55:00 2023-01-08 20:16:00   \n",
       "3            Good  2023-09-08 11:55:00 2023-01-08 20:56:00   \n",
       "4            Good  2023-09-08 11:55:00 2023-01-08 10:30:00   \n",
       "\n",
       "      issue_responded Survey_response_Date Customer_City Product_category  \\\n",
       "0 2023-01-08 11:47:00           2023-08-01     HYDERABAD      Electronics   \n",
       "1 2023-01-08 12:54:00           2023-08-01     HYDERABAD      Electronics   \n",
       "2 2023-01-08 20:38:00           2023-08-01     HYDERABAD      Electronics   \n",
       "3 2023-01-08 21:16:00           2023-08-01     HYDERABAD      Electronics   \n",
       "4 2023-01-08 10:32:00           2023-08-01     HYDERABAD      Electronics   \n",
       "\n",
       "   ...          Manager    Tenure Bucket Agent Shift CSAT Score  \\\n",
       "0  ...  Jennifer Nguyen  On Job Training     Morning          5   \n",
       "1  ...      Michael Lee              >90     Morning          5   \n",
       "2  ...      William Kim  On Job Training     Evening          5   \n",
       "3  ...       John Smith              >90     Evening          5   \n",
       "4  ...      Michael Lee             0-30     Morning          5   \n",
       "\n",
       "  missing_order_time missing_report_time  missing_response_time  \\\n",
       "0                  0                   0                      0   \n",
       "1                  0                   0                      0   \n",
       "2                  0                   0                      0   \n",
       "3                  0                   0                      0   \n",
       "4                  0                   0                      0   \n",
       "\n",
       "   response_time_hours  order_to_issue_hours  survey_delay_hours  \n",
       "0             0.566667          -5832.700000         4908.216667  \n",
       "1             0.033333          -5831.050000         4907.100000  \n",
       "2             0.366667          -5823.650000         4899.366667  \n",
       "3             0.333333          -5822.983333         4898.733333  \n",
       "4             0.033333          -5833.416667         4909.466667  \n",
       "\n",
       "[5 rows x 23 columns]"
      ]
     },
     "execution_count": 35,
     "metadata": {},
     "output_type": "execute_result"
    }
   ],
   "source": [
    "df.head()"
   ]
  },
  {
   "cell_type": "code",
   "execution_count": 36,
   "id": "f8811c64",
   "metadata": {},
   "outputs": [
    {
     "data": {
      "text/plain": [
       "(85906, 23)"
      ]
     },
     "execution_count": 36,
     "metadata": {},
     "output_type": "execute_result"
    }
   ],
   "source": [
    "df.shape"
   ]
  },
  {
   "cell_type": "code",
   "execution_count": 37,
   "id": "346c36d1",
   "metadata": {},
   "outputs": [
    {
     "data": {
      "text/plain": [
       "np.int64(0)"
      ]
     },
     "execution_count": 37,
     "metadata": {},
     "output_type": "execute_result"
    }
   ],
   "source": [
    "df['Tenure Bucket'].isna().sum()"
   ]
  },
  {
   "cell_type": "code",
   "execution_count": 38,
   "id": "547d5360",
   "metadata": {},
   "outputs": [
    {
     "data": {
      "text/plain": [
       "5"
      ]
     },
     "execution_count": 38,
     "metadata": {},
     "output_type": "execute_result"
    }
   ],
   "source": [
    "df['Tenure Bucket'].nunique()"
   ]
  },
  {
   "cell_type": "code",
   "execution_count": 39,
   "id": "db1c871f",
   "metadata": {},
   "outputs": [
    {
     "data": {
      "text/plain": [
       "Tenure Bucket\n",
       ">90                30659\n",
       "On Job Training    25523\n",
       "31-60              11665\n",
       "0-30               11318\n",
       "61-90               6741\n",
       "Name: count, dtype: int64"
      ]
     },
     "execution_count": 39,
     "metadata": {},
     "output_type": "execute_result"
    }
   ],
   "source": [
    "df['Tenure Bucket'].value_counts()"
   ]
  },
  {
   "cell_type": "code",
   "execution_count": 40,
   "id": "79bb840c",
   "metadata": {},
   "outputs": [],
   "source": [
    "tenure_map = {\n",
    "    'On Job Training': 0,\n",
    "    '0-30': 1,\n",
    "    '31-60': 2,\n",
    "    '61-90': 3,\n",
    "    '>90': 4\n",
    "}\n",
    "\n",
    "df['Tenure Bucket'] = df['Tenure Bucket'].map(tenure_map)"
   ]
  },
  {
   "cell_type": "code",
   "execution_count": 41,
   "id": "04a5c029",
   "metadata": {},
   "outputs": [
    {
     "data": {
      "text/html": [
       "<div>\n",
       "<style scoped>\n",
       "    .dataframe tbody tr th:only-of-type {\n",
       "        vertical-align: middle;\n",
       "    }\n",
       "\n",
       "    .dataframe tbody tr th {\n",
       "        vertical-align: top;\n",
       "    }\n",
       "\n",
       "    .dataframe thead th {\n",
       "        text-align: right;\n",
       "    }\n",
       "</style>\n",
       "<table border=\"1\" class=\"dataframe\">\n",
       "  <thead>\n",
       "    <tr style=\"text-align: right;\">\n",
       "      <th></th>\n",
       "      <th>channel_name</th>\n",
       "      <th>category</th>\n",
       "      <th>Sub-category</th>\n",
       "      <th>Customer Remarks</th>\n",
       "      <th>order_date_time</th>\n",
       "      <th>Issue_reported at</th>\n",
       "      <th>issue_responded</th>\n",
       "      <th>Survey_response_Date</th>\n",
       "      <th>Customer_City</th>\n",
       "      <th>Product_category</th>\n",
       "      <th>...</th>\n",
       "      <th>Manager</th>\n",
       "      <th>Tenure Bucket</th>\n",
       "      <th>Agent Shift</th>\n",
       "      <th>CSAT Score</th>\n",
       "      <th>missing_order_time</th>\n",
       "      <th>missing_report_time</th>\n",
       "      <th>missing_response_time</th>\n",
       "      <th>response_time_hours</th>\n",
       "      <th>order_to_issue_hours</th>\n",
       "      <th>survey_delay_hours</th>\n",
       "    </tr>\n",
       "  </thead>\n",
       "  <tbody>\n",
       "    <tr>\n",
       "      <th>0</th>\n",
       "      <td>Outcall</td>\n",
       "      <td>Product Queries</td>\n",
       "      <td>Life Insurance</td>\n",
       "      <td>Good</td>\n",
       "      <td>2023-09-08 11:55:00</td>\n",
       "      <td>2023-01-08 11:13:00</td>\n",
       "      <td>2023-01-08 11:47:00</td>\n",
       "      <td>2023-08-01</td>\n",
       "      <td>HYDERABAD</td>\n",
       "      <td>Electronics</td>\n",
       "      <td>...</td>\n",
       "      <td>Jennifer Nguyen</td>\n",
       "      <td>0</td>\n",
       "      <td>Morning</td>\n",
       "      <td>5</td>\n",
       "      <td>0</td>\n",
       "      <td>0</td>\n",
       "      <td>0</td>\n",
       "      <td>0.566667</td>\n",
       "      <td>-5832.700000</td>\n",
       "      <td>4908.216667</td>\n",
       "    </tr>\n",
       "    <tr>\n",
       "      <th>1</th>\n",
       "      <td>Outcall</td>\n",
       "      <td>Product Queries</td>\n",
       "      <td>Product Specific Information</td>\n",
       "      <td>Good</td>\n",
       "      <td>2023-09-08 11:55:00</td>\n",
       "      <td>2023-01-08 12:52:00</td>\n",
       "      <td>2023-01-08 12:54:00</td>\n",
       "      <td>2023-08-01</td>\n",
       "      <td>HYDERABAD</td>\n",
       "      <td>Electronics</td>\n",
       "      <td>...</td>\n",
       "      <td>Michael Lee</td>\n",
       "      <td>4</td>\n",
       "      <td>Morning</td>\n",
       "      <td>5</td>\n",
       "      <td>0</td>\n",
       "      <td>0</td>\n",
       "      <td>0</td>\n",
       "      <td>0.033333</td>\n",
       "      <td>-5831.050000</td>\n",
       "      <td>4907.100000</td>\n",
       "    </tr>\n",
       "    <tr>\n",
       "      <th>2</th>\n",
       "      <td>Inbound</td>\n",
       "      <td>Order Related</td>\n",
       "      <td>Installation/demo</td>\n",
       "      <td>Good</td>\n",
       "      <td>2023-09-08 11:55:00</td>\n",
       "      <td>2023-01-08 20:16:00</td>\n",
       "      <td>2023-01-08 20:38:00</td>\n",
       "      <td>2023-08-01</td>\n",
       "      <td>HYDERABAD</td>\n",
       "      <td>Electronics</td>\n",
       "      <td>...</td>\n",
       "      <td>William Kim</td>\n",
       "      <td>0</td>\n",
       "      <td>Evening</td>\n",
       "      <td>5</td>\n",
       "      <td>0</td>\n",
       "      <td>0</td>\n",
       "      <td>0</td>\n",
       "      <td>0.366667</td>\n",
       "      <td>-5823.650000</td>\n",
       "      <td>4899.366667</td>\n",
       "    </tr>\n",
       "    <tr>\n",
       "      <th>3</th>\n",
       "      <td>Inbound</td>\n",
       "      <td>Returns</td>\n",
       "      <td>Reverse Pickup Enquiry</td>\n",
       "      <td>Good</td>\n",
       "      <td>2023-09-08 11:55:00</td>\n",
       "      <td>2023-01-08 20:56:00</td>\n",
       "      <td>2023-01-08 21:16:00</td>\n",
       "      <td>2023-08-01</td>\n",
       "      <td>HYDERABAD</td>\n",
       "      <td>Electronics</td>\n",
       "      <td>...</td>\n",
       "      <td>John Smith</td>\n",
       "      <td>4</td>\n",
       "      <td>Evening</td>\n",
       "      <td>5</td>\n",
       "      <td>0</td>\n",
       "      <td>0</td>\n",
       "      <td>0</td>\n",
       "      <td>0.333333</td>\n",
       "      <td>-5822.983333</td>\n",
       "      <td>4898.733333</td>\n",
       "    </tr>\n",
       "    <tr>\n",
       "      <th>4</th>\n",
       "      <td>Inbound</td>\n",
       "      <td>Cancellation</td>\n",
       "      <td>Not Needed</td>\n",
       "      <td>Good</td>\n",
       "      <td>2023-09-08 11:55:00</td>\n",
       "      <td>2023-01-08 10:30:00</td>\n",
       "      <td>2023-01-08 10:32:00</td>\n",
       "      <td>2023-08-01</td>\n",
       "      <td>HYDERABAD</td>\n",
       "      <td>Electronics</td>\n",
       "      <td>...</td>\n",
       "      <td>Michael Lee</td>\n",
       "      <td>1</td>\n",
       "      <td>Morning</td>\n",
       "      <td>5</td>\n",
       "      <td>0</td>\n",
       "      <td>0</td>\n",
       "      <td>0</td>\n",
       "      <td>0.033333</td>\n",
       "      <td>-5833.416667</td>\n",
       "      <td>4909.466667</td>\n",
       "    </tr>\n",
       "  </tbody>\n",
       "</table>\n",
       "<p>5 rows × 23 columns</p>\n",
       "</div>"
      ],
      "text/plain": [
       "  channel_name         category                  Sub-category  \\\n",
       "0      Outcall  Product Queries                Life Insurance   \n",
       "1      Outcall  Product Queries  Product Specific Information   \n",
       "2      Inbound    Order Related             Installation/demo   \n",
       "3      Inbound          Returns        Reverse Pickup Enquiry   \n",
       "4      Inbound     Cancellation                    Not Needed   \n",
       "\n",
       "  Customer Remarks     order_date_time   Issue_reported at  \\\n",
       "0            Good  2023-09-08 11:55:00 2023-01-08 11:13:00   \n",
       "1            Good  2023-09-08 11:55:00 2023-01-08 12:52:00   \n",
       "2            Good  2023-09-08 11:55:00 2023-01-08 20:16:00   \n",
       "3            Good  2023-09-08 11:55:00 2023-01-08 20:56:00   \n",
       "4            Good  2023-09-08 11:55:00 2023-01-08 10:30:00   \n",
       "\n",
       "      issue_responded Survey_response_Date Customer_City Product_category  \\\n",
       "0 2023-01-08 11:47:00           2023-08-01     HYDERABAD      Electronics   \n",
       "1 2023-01-08 12:54:00           2023-08-01     HYDERABAD      Electronics   \n",
       "2 2023-01-08 20:38:00           2023-08-01     HYDERABAD      Electronics   \n",
       "3 2023-01-08 21:16:00           2023-08-01     HYDERABAD      Electronics   \n",
       "4 2023-01-08 10:32:00           2023-08-01     HYDERABAD      Electronics   \n",
       "\n",
       "   ...          Manager Tenure Bucket Agent Shift CSAT Score  \\\n",
       "0  ...  Jennifer Nguyen             0     Morning          5   \n",
       "1  ...      Michael Lee             4     Morning          5   \n",
       "2  ...      William Kim             0     Evening          5   \n",
       "3  ...       John Smith             4     Evening          5   \n",
       "4  ...      Michael Lee             1     Morning          5   \n",
       "\n",
       "   missing_order_time missing_report_time  missing_response_time  \\\n",
       "0                   0                   0                      0   \n",
       "1                   0                   0                      0   \n",
       "2                   0                   0                      0   \n",
       "3                   0                   0                      0   \n",
       "4                   0                   0                      0   \n",
       "\n",
       "   response_time_hours  order_to_issue_hours  survey_delay_hours  \n",
       "0             0.566667          -5832.700000         4908.216667  \n",
       "1             0.033333          -5831.050000         4907.100000  \n",
       "2             0.366667          -5823.650000         4899.366667  \n",
       "3             0.333333          -5822.983333         4898.733333  \n",
       "4             0.033333          -5833.416667         4909.466667  \n",
       "\n",
       "[5 rows x 23 columns]"
      ]
     },
     "execution_count": 41,
     "metadata": {},
     "output_type": "execute_result"
    }
   ],
   "source": [
    "df.head()"
   ]
  },
  {
   "cell_type": "code",
   "execution_count": 42,
   "id": "0937a50d",
   "metadata": {},
   "outputs": [
    {
     "data": {
      "text/plain": [
       "channel_name             0\n",
       "category                 0\n",
       "Sub-category             0\n",
       "Customer Remarks         0\n",
       "order_date_time          0\n",
       "Issue_reported at        0\n",
       "issue_responded          0\n",
       "Survey_response_Date     0\n",
       "Customer_City            0\n",
       "Product_category         0\n",
       "Item_price               0\n",
       "Agent_name               0\n",
       "Supervisor               0\n",
       "Manager                  0\n",
       "Tenure Bucket            0\n",
       "Agent Shift              0\n",
       "CSAT Score               0\n",
       "missing_order_time       0\n",
       "missing_report_time      0\n",
       "missing_response_time    0\n",
       "response_time_hours      0\n",
       "order_to_issue_hours     0\n",
       "survey_delay_hours       0\n",
       "dtype: int64"
      ]
     },
     "execution_count": 42,
     "metadata": {},
     "output_type": "execute_result"
    }
   ],
   "source": [
    "df.isna().sum()"
   ]
  },
  {
   "cell_type": "markdown",
   "id": "b55cc91c",
   "metadata": {},
   "source": [
    "## Vizualizations"
   ]
  },
  {
   "cell_type": "markdown",
   "id": "daaf7424",
   "metadata": {},
   "source": [
    "# CSAT Distribution"
   ]
  },
  {
   "cell_type": "code",
   "execution_count": 43,
   "id": "97037f5d",
   "metadata": {},
   "outputs": [
    {
     "data": {
      "image/png": "[encoded data removed]",
      "text/plain": [
       "<Figure size 800x500 with 1 Axes>"
      ]
     },
     "metadata": {},
     "output_type": "display_data"
    }
   ],
   "source": [
    "plt.figure(figsize=(8,5))\n",
    "sns.countplot(x='CSAT Score',hue = \"CSAT Score\",legend = False ,  data=df, palette='viridis')\n",
    "plt.title('Distribution of CSAT Scores')\n",
    "plt.xlabel('CSAT Score')\n",
    "plt.ylabel('Count')\n",
    "plt.show()"
   ]
  },
  {
   "cell_type": "markdown",
   "id": "e8bd1405",
   "metadata": {},
   "source": [
    "# CSAT by Tenure Bucket (Ordinal)"
   ]
  },
  {
   "cell_type": "code",
   "execution_count": 44,
   "id": "16a07246",
   "metadata": {},
   "outputs": [
    {
     "data": {
      "image/png": "[encoded data removed]",
      "text/plain": [
       "<Figure size 800x500 with 1 Axes>"
      ]
     },
     "metadata": {},
     "output_type": "display_data"
    }
   ],
   "source": [
    "plt.figure(figsize=(8,5))\n",
    "sns.barplot(x='Tenure Bucket', y='CSAT Score', hue = 'Tenure Bucket' ,legend = False, data=df, estimator='mean', palette='coolwarm')\n",
    "plt.title('Average CSAT by Tenure Bucket')\n",
    "plt.xlabel('Tenure Bucket (0=OJT, 4=>90 days)')\n",
    "plt.ylabel('Average CSAT')\n",
    "plt.show()"
   ]
  },
  {
   "cell_type": "markdown",
   "id": "f9c26ee1",
   "metadata": {},
   "source": [
    "# Top Agents by Average CSAT"
   ]
  },
  {
   "cell_type": "code",
   "execution_count": 45,
   "id": "9a1cb1bb",
   "metadata": {},
   "outputs": [
    {
     "data": {
      "image/png": "[encoded data removed]",
      "text/plain": [
       "<Figure size 1000x600 with 1 Axes>"
      ]
     },
     "metadata": {},
     "output_type": "display_data"
    }
   ],
   "source": [
    "plt.figure(figsize=(10,6))\n",
    "top_agents = df.groupby('Agent_name')['CSAT Score'].mean().sort_values(ascending=False).head(20)\n",
    "sns.barplot(x=top_agents.values, y=top_agents.index, hue = top_agents.values, legend = False, palette='magma')\n",
    "plt.title('Top 20 Agents by Average CSAT')\n",
    "plt.xlabel('Average CSAT')\n",
    "plt.ylabel('Agent')\n",
    "plt.show()"
   ]
  },
  {
   "cell_type": "markdown",
   "id": "91cb4847",
   "metadata": {},
   "source": [
    "# CSAT vs Response Time"
   ]
  },
  {
   "cell_type": "code",
   "execution_count": 46,
   "id": "28de1b03",
   "metadata": {},
   "outputs": [
    {
     "data": {
      "image/png": "[encoded data removed]",
      "text/plain": [
       "<Figure size 800x500 with 1 Axes>"
      ]
     },
     "metadata": {},
     "output_type": "display_data"
    }
   ],
   "source": [
    "plt.figure(figsize=(8,5))\n",
    "sns.boxplot(x='CSAT Score', y='response_time_hours', hue = 'CSAT Score', legend = False, data=df, palette='Set2')\n",
    "plt.title('Response Time vs CSAT Score')\n",
    "plt.xlabel('CSAT Score')\n",
    "plt.ylabel('Response Time (hours)')\n",
    "plt.show()"
   ]
  },
  {
   "cell_type": "markdown",
   "id": "cf4209ad",
   "metadata": {},
   "source": [
    "# CSAT by Agent Shift"
   ]
  },
  {
   "cell_type": "code",
   "execution_count": 47,
   "id": "78f2d1c1",
   "metadata": {},
   "outputs": [
    {
     "data": {
      "image/png": "[encoded data removed]",
      "text/plain": [
       "<Figure size 800x500 with 1 Axes>"
      ]
     },
     "metadata": {},
     "output_type": "display_data"
    }
   ],
   "source": [
    "plt.figure(figsize=(8,5))\n",
    "sns.boxplot(x='Agent Shift', y='CSAT Score',hue = 'Agent Shift', legend = False, data=df, palette='Set3')\n",
    "plt.title('CSAT Distribution Across Agent Shifts')\n",
    "plt.xlabel('Agent Shift')\n",
    "plt.ylabel('CSAT Score')\n",
    "plt.show()\n"
   ]
  },
  {
   "cell_type": "markdown",
   "id": "d298bb4b",
   "metadata": {},
   "source": [
    "# CSAT by Product Category"
   ]
  },
  {
   "cell_type": "code",
   "execution_count": 48,
   "id": "50adb55c",
   "metadata": {},
   "outputs": [
    {
     "data": {
      "image/png": "[encoded data removed]",
      "text/plain": [
       "<Figure size 1000x600 with 1 Axes>"
      ]
     },
     "metadata": {},
     "output_type": "display_data"
    }
   ],
   "source": [
    "plt.figure(figsize=(10,6))\n",
    "sns.boxplot(x='Product_category', y='CSAT Score',hue = 'Product_category', legend = False, data=df, palette='Pastel1')\n",
    "plt.title('CSAT by Product Category')\n",
    "plt.xticks(rotation=45)\n",
    "plt.show()"
   ]
  },
  {
   "cell_type": "markdown",
   "id": "5a95bc0a",
   "metadata": {},
   "source": [
    "# Missing Values Heatmap"
   ]
  },
  {
   "cell_type": "code",
   "execution_count": 49,
   "id": "ad6f31ab",
   "metadata": {},
   "outputs": [
    {
     "data": {
      "image/png": "[encoded data removed]",
      "text/plain": [
       "<Figure size 1200x600 with 1 Axes>"
      ]
     },
     "metadata": {},
     "output_type": "display_data"
    }
   ],
   "source": [
    "plt.figure(figsize=(12,6))\n",
    "sns.heatmap(df.isnull(), cbar=False, cmap='YlGnBu')\n",
    "plt.title('Missing Values Heatmap')\n",
    "plt.show()"
   ]
  },
  {
   "cell_type": "markdown",
   "id": "0ebc0114",
   "metadata": {},
   "source": [
    "# Response Time Distribution"
   ]
  },
  {
   "cell_type": "code",
   "execution_count": 50,
   "id": "c5208a0f",
   "metadata": {},
   "outputs": [
    {
     "data": {
      "image/png": "[encoded data removed]",
      "text/plain": [
       "<Figure size 800x500 with 1 Axes>"
      ]
     },
     "metadata": {},
     "output_type": "display_data"
    }
   ],
   "source": [
    "plt.figure(figsize=(8,5))\n",
    "sns.histplot(df['response_time_hours'], bins=50, kde=True, color='skyblue')\n",
    "plt.title('Response Time Distribution')\n",
    "plt.xlabel('Response Time (hours)')\n",
    "plt.ylabel('Frequency')\n",
    "plt.show()\n"
   ]
  },
  {
   "cell_type": "markdown",
   "id": "51b6704f",
   "metadata": {},
   "source": [
    "# Survey Delay vs CSAT"
   ]
  },
  {
   "cell_type": "code",
   "execution_count": 51,
   "id": "43252fca",
   "metadata": {},
   "outputs": [
    {
     "data": {
      "image/png": "[encoded data removed]",
      "text/plain": [
       "<Figure size 800x500 with 1 Axes>"
      ]
     },
     "metadata": {},
     "output_type": "display_data"
    }
   ],
   "source": [
    "plt.figure(figsize=(8,5))\n",
    "sns.scatterplot(x='survey_delay_hours', y='CSAT Score', data=df, alpha=0.5)\n",
    "plt.title('Survey Delay vs CSAT Score')\n",
    "plt.xlabel('Survey Delay (hours)')\n",
    "plt.ylabel('CSAT Score')\n",
    "plt.show()"
   ]
  },
  {
   "cell_type": "markdown",
   "id": "d6c49d41",
   "metadata": {},
   "source": [
    "# Correlation Heatmap (Numeric Features)"
   ]
  },
  {
   "cell_type": "code",
   "execution_count": 52,
   "id": "55530115",
   "metadata": {},
   "outputs": [
    {
     "data": {
      "image/png": "[encoded data removed]",
      "text/plain": [
       "<Figure size 1000x800 with 2 Axes>"
      ]
     },
     "metadata": {},
     "output_type": "display_data"
    }
   ],
   "source": [
    "plt.figure(figsize=(10,8))\n",
    "numeric_cols = ['Item_price', 'response_time_hours', 'order_to_issue_hours', 'survey_delay_hours', 'Tenure Bucket', 'CSAT Score']\n",
    "sns.heatmap(df[numeric_cols].corr(), annot=True, cmap='coolwarm', fmt=\".2f\")\n",
    "plt.title('Correlation Between Numeric Features')\n",
    "plt.show()"
   ]
  },
  {
   "cell_type": "code",
   "execution_count": 53,
   "id": "8a70e744",
   "metadata": {},
   "outputs": [
    {
     "data": {
      "text/plain": [
       "channel_name             0\n",
       "category                 0\n",
       "Sub-category             0\n",
       "Customer Remarks         0\n",
       "order_date_time          0\n",
       "Issue_reported at        0\n",
       "issue_responded          0\n",
       "Survey_response_Date     0\n",
       "Customer_City            0\n",
       "Product_category         0\n",
       "Item_price               0\n",
       "Agent_name               0\n",
       "Supervisor               0\n",
       "Manager                  0\n",
       "Tenure Bucket            0\n",
       "Agent Shift              0\n",
       "CSAT Score               0\n",
       "missing_order_time       0\n",
       "missing_report_time      0\n",
       "missing_response_time    0\n",
       "response_time_hours      0\n",
       "order_to_issue_hours     0\n",
       "survey_delay_hours       0\n",
       "dtype: int64"
      ]
     },
     "execution_count": 53,
     "metadata": {},
     "output_type": "execute_result"
    }
   ],
   "source": [
    "df.isna().sum()"
   ]
  },
  {
   "cell_type": "code",
   "execution_count": 55,
   "id": "7baf5050",
   "metadata": {},
   "outputs": [
    {
     "data": {
      "text/plain": [
       "(85906, 23)"
      ]
     },
     "execution_count": 55,
     "metadata": {},
     "output_type": "execute_result"
    }
   ],
   "source": [
    "df.shape"
   ]
  },
  {
   "cell_type": "code",
   "execution_count": 56,
   "id": "ff91b758",
   "metadata": {},
   "outputs": [
    {
     "name": "stdout",
     "output_type": "stream",
     "text": [
      "<class 'pandas.core.frame.DataFrame'>\n",
      "Index: 85906 entries, 0 to 85906\n",
      "Data columns (total 23 columns):\n",
      " #   Column                 Non-Null Count  Dtype         \n",
      "---  ------                 --------------  -----         \n",
      " 0   channel_name           85906 non-null  object        \n",
      " 1   category               85906 non-null  object        \n",
      " 2   Sub-category           85906 non-null  object        \n",
      " 3   Customer Remarks       85906 non-null  object        \n",
      " 4   order_date_time        85906 non-null  datetime64[ns]\n",
      " 5   Issue_reported at      85906 non-null  datetime64[ns]\n",
      " 6   issue_responded        85906 non-null  datetime64[ns]\n",
      " 7   Survey_response_Date   85906 non-null  datetime64[ns]\n",
      " 8   Customer_City          85906 non-null  object        \n",
      " 9   Product_category       85906 non-null  object        \n",
      " 10  Item_price             85906 non-null  float64       \n",
      " 11  Agent_name             85906 non-null  object        \n",
      " 12  Supervisor             85906 non-null  object        \n",
      " 13  Manager                85906 non-null  object        \n",
      " 14  Tenure Bucket          85906 non-null  int64         \n",
      " 15  Agent Shift            85906 non-null  object        \n",
      " 16  CSAT Score             85906 non-null  int64         \n",
      " 17  missing_order_time     85906 non-null  int64         \n",
      " 18  missing_report_time    85906 non-null  int64         \n",
      " 19  missing_response_time  85906 non-null  int64         \n",
      " 20  response_time_hours    85906 non-null  float64       \n",
      " 21  order_to_issue_hours   85906 non-null  float64       \n",
      " 22  survey_delay_hours     85906 non-null  float64       \n",
      "dtypes: datetime64[ns](4), float64(4), int64(5), object(10)\n",
      "memory usage: 15.7+ MB\n"
     ]
    }
   ],
   "source": [
    "df.info()"
   ]
  },
  {
   "cell_type": "code",
   "execution_count": 57,
   "id": "7cbc4f89",
   "metadata": {},
   "outputs": [
    {
     "data": {
      "text/html": [
       "<div>\n",
       "<style scoped>\n",
       "    .dataframe tbody tr th:only-of-type {\n",
       "        vertical-align: middle;\n",
       "    }\n",
       "\n",
       "    .dataframe tbody tr th {\n",
       "        vertical-align: top;\n",
       "    }\n",
       "\n",
       "    .dataframe thead th {\n",
       "        text-align: right;\n",
       "    }\n",
       "</style>\n",
       "<table border=\"1\" class=\"dataframe\">\n",
       "  <thead>\n",
       "    <tr style=\"text-align: right;\">\n",
       "      <th></th>\n",
       "      <th>channel_name</th>\n",
       "      <th>category</th>\n",
       "      <th>Sub-category</th>\n",
       "      <th>Customer Remarks</th>\n",
       "      <th>order_date_time</th>\n",
       "      <th>Issue_reported at</th>\n",
       "      <th>issue_responded</th>\n",
       "      <th>Survey_response_Date</th>\n",
       "      <th>Customer_City</th>\n",
       "      <th>Product_category</th>\n",
       "      <th>...</th>\n",
       "      <th>Manager</th>\n",
       "      <th>Tenure Bucket</th>\n",
       "      <th>Agent Shift</th>\n",
       "      <th>CSAT Score</th>\n",
       "      <th>missing_order_time</th>\n",
       "      <th>missing_report_time</th>\n",
       "      <th>missing_response_time</th>\n",
       "      <th>response_time_hours</th>\n",
       "      <th>order_to_issue_hours</th>\n",
       "      <th>survey_delay_hours</th>\n",
       "    </tr>\n",
       "  </thead>\n",
       "  <tbody>\n",
       "    <tr>\n",
       "      <th>0</th>\n",
       "      <td>Outcall</td>\n",
       "      <td>Product Queries</td>\n",
       "      <td>Life Insurance</td>\n",
       "      <td>Good</td>\n",
       "      <td>2023-09-08 11:55:00</td>\n",
       "      <td>2023-01-08 11:13:00</td>\n",
       "      <td>2023-01-08 11:47:00</td>\n",
       "      <td>2023-08-01</td>\n",
       "      <td>HYDERABAD</td>\n",
       "      <td>Electronics</td>\n",
       "      <td>...</td>\n",
       "      <td>Jennifer Nguyen</td>\n",
       "      <td>0</td>\n",
       "      <td>Morning</td>\n",
       "      <td>5</td>\n",
       "      <td>0</td>\n",
       "      <td>0</td>\n",
       "      <td>0</td>\n",
       "      <td>0.566667</td>\n",
       "      <td>-5832.700000</td>\n",
       "      <td>4908.216667</td>\n",
       "    </tr>\n",
       "    <tr>\n",
       "      <th>1</th>\n",
       "      <td>Outcall</td>\n",
       "      <td>Product Queries</td>\n",
       "      <td>Product Specific Information</td>\n",
       "      <td>Good</td>\n",
       "      <td>2023-09-08 11:55:00</td>\n",
       "      <td>2023-01-08 12:52:00</td>\n",
       "      <td>2023-01-08 12:54:00</td>\n",
       "      <td>2023-08-01</td>\n",
       "      <td>HYDERABAD</td>\n",
       "      <td>Electronics</td>\n",
       "      <td>...</td>\n",
       "      <td>Michael Lee</td>\n",
       "      <td>4</td>\n",
       "      <td>Morning</td>\n",
       "      <td>5</td>\n",
       "      <td>0</td>\n",
       "      <td>0</td>\n",
       "      <td>0</td>\n",
       "      <td>0.033333</td>\n",
       "      <td>-5831.050000</td>\n",
       "      <td>4907.100000</td>\n",
       "    </tr>\n",
       "    <tr>\n",
       "      <th>2</th>\n",
       "      <td>Inbound</td>\n",
       "      <td>Order Related</td>\n",
       "      <td>Installation/demo</td>\n",
       "      <td>Good</td>\n",
       "      <td>2023-09-08 11:55:00</td>\n",
       "      <td>2023-01-08 20:16:00</td>\n",
       "      <td>2023-01-08 20:38:00</td>\n",
       "      <td>2023-08-01</td>\n",
       "      <td>HYDERABAD</td>\n",
       "      <td>Electronics</td>\n",
       "      <td>...</td>\n",
       "      <td>William Kim</td>\n",
       "      <td>0</td>\n",
       "      <td>Evening</td>\n",
       "      <td>5</td>\n",
       "      <td>0</td>\n",
       "      <td>0</td>\n",
       "      <td>0</td>\n",
       "      <td>0.366667</td>\n",
       "      <td>-5823.650000</td>\n",
       "      <td>4899.366667</td>\n",
       "    </tr>\n",
       "    <tr>\n",
       "      <th>3</th>\n",
       "      <td>Inbound</td>\n",
       "      <td>Returns</td>\n",
       "      <td>Reverse Pickup Enquiry</td>\n",
       "      <td>Good</td>\n",
       "      <td>2023-09-08 11:55:00</td>\n",
       "      <td>2023-01-08 20:56:00</td>\n",
       "      <td>2023-01-08 21:16:00</td>\n",
       "      <td>2023-08-01</td>\n",
       "      <td>HYDERABAD</td>\n",
       "      <td>Electronics</td>\n",
       "      <td>...</td>\n",
       "      <td>John Smith</td>\n",
       "      <td>4</td>\n",
       "      <td>Evening</td>\n",
       "      <td>5</td>\n",
       "      <td>0</td>\n",
       "      <td>0</td>\n",
       "      <td>0</td>\n",
       "      <td>0.333333</td>\n",
       "      <td>-5822.983333</td>\n",
       "      <td>4898.733333</td>\n",
       "    </tr>\n",
       "    <tr>\n",
       "      <th>4</th>\n",
       "      <td>Inbound</td>\n",
       "      <td>Cancellation</td>\n",
       "      <td>Not Needed</td>\n",
       "      <td>Good</td>\n",
       "      <td>2023-09-08 11:55:00</td>\n",
       "      <td>2023-01-08 10:30:00</td>\n",
       "      <td>2023-01-08 10:32:00</td>\n",
       "      <td>2023-08-01</td>\n",
       "      <td>HYDERABAD</td>\n",
       "      <td>Electronics</td>\n",
       "      <td>...</td>\n",
       "      <td>Michael Lee</td>\n",
       "      <td>1</td>\n",
       "      <td>Morning</td>\n",
       "      <td>5</td>\n",
       "      <td>0</td>\n",
       "      <td>0</td>\n",
       "      <td>0</td>\n",
       "      <td>0.033333</td>\n",
       "      <td>-5833.416667</td>\n",
       "      <td>4909.466667</td>\n",
       "    </tr>\n",
       "  </tbody>\n",
       "</table>\n",
       "<p>5 rows × 23 columns</p>\n",
       "</div>"
      ],
      "text/plain": [
       "  channel_name         category                  Sub-category  \\\n",
       "0      Outcall  Product Queries                Life Insurance   \n",
       "1      Outcall  Product Queries  Product Specific Information   \n",
       "2      Inbound    Order Related             Installation/demo   \n",
       "3      Inbound          Returns        Reverse Pickup Enquiry   \n",
       "4      Inbound     Cancellation                    Not Needed   \n",
       "\n",
       "  Customer Remarks     order_date_time   Issue_reported at  \\\n",
       "0            Good  2023-09-08 11:55:00 2023-01-08 11:13:00   \n",
       "1            Good  2023-09-08 11:55:00 2023-01-08 12:52:00   \n",
       "2            Good  2023-09-08 11:55:00 2023-01-08 20:16:00   \n",
       "3            Good  2023-09-08 11:55:00 2023-01-08 20:56:00   \n",
       "4            Good  2023-09-08 11:55:00 2023-01-08 10:30:00   \n",
       "\n",
       "      issue_responded Survey_response_Date Customer_City Product_category  \\\n",
       "0 2023-01-08 11:47:00           2023-08-01     HYDERABAD      Electronics   \n",
       "1 2023-01-08 12:54:00           2023-08-01     HYDERABAD      Electronics   \n",
       "2 2023-01-08 20:38:00           2023-08-01     HYDERABAD      Electronics   \n",
       "3 2023-01-08 21:16:00           2023-08-01     HYDERABAD      Electronics   \n",
       "4 2023-01-08 10:32:00           2023-08-01     HYDERABAD      Electronics   \n",
       "\n",
       "   ...          Manager Tenure Bucket Agent Shift CSAT Score  \\\n",
       "0  ...  Jennifer Nguyen             0     Morning          5   \n",
       "1  ...      Michael Lee             4     Morning          5   \n",
       "2  ...      William Kim             0     Evening          5   \n",
       "3  ...       John Smith             4     Evening          5   \n",
       "4  ...      Michael Lee             1     Morning          5   \n",
       "\n",
       "   missing_order_time missing_report_time  missing_response_time  \\\n",
       "0                   0                   0                      0   \n",
       "1                   0                   0                      0   \n",
       "2                   0                   0                      0   \n",
       "3                   0                   0                      0   \n",
       "4                   0                   0                      0   \n",
       "\n",
       "   response_time_hours  order_to_issue_hours  survey_delay_hours  \n",
       "0             0.566667          -5832.700000         4908.216667  \n",
       "1             0.033333          -5831.050000         4907.100000  \n",
       "2             0.366667          -5823.650000         4899.366667  \n",
       "3             0.333333          -5822.983333         4898.733333  \n",
       "4             0.033333          -5833.416667         4909.466667  \n",
       "\n",
       "[5 rows x 23 columns]"
      ]
     },
     "execution_count": 57,
     "metadata": {},
     "output_type": "execute_result"
    }
   ],
   "source": [
    "df.head()"
   ]
  },
  {
   "cell_type": "markdown",
   "id": "2f749af8",
   "metadata": {},
   "source": [
    "## Get all new Categorical Columns"
   ]
  },
  {
   "cell_type": "code",
   "execution_count": 63,
   "id": "3330345b",
   "metadata": {},
   "outputs": [],
   "source": [
    "categorical_cols = df.select_dtypes(include=['object', 'datetime64[ns]'])"
   ]
  },
  {
   "cell_type": "code",
   "execution_count": 64,
   "id": "995d0ad6",
   "metadata": {},
   "outputs": [],
   "source": [
    "categorical_cols_list = categorical_cols.columns.to_list()"
   ]
  },
  {
   "cell_type": "code",
   "execution_count": 66,
   "id": "76224d9e",
   "metadata": {},
   "outputs": [
    {
     "data": {
      "text/plain": [
       "['channel_name',\n",
       " 'category',\n",
       " 'Sub-category',\n",
       " 'Customer Remarks',\n",
       " 'order_date_time',\n",
       " 'Issue_reported at',\n",
       " 'issue_responded',\n",
       " 'Survey_response_Date',\n",
       " 'Customer_City',\n",
       " 'Product_category',\n",
       " 'Agent_name',\n",
       " 'Supervisor',\n",
       " 'Manager',\n",
       " 'Agent Shift']"
      ]
     },
     "execution_count": 66,
     "metadata": {},
     "output_type": "execute_result"
    }
   ],
   "source": [
    "categorical_cols_list"
   ]
  },
  {
   "cell_type": "markdown",
   "id": "882d3c71",
   "metadata": {},
   "source": [
    "## Get All New numerical features"
   ]
  },
  {
   "cell_type": "code",
   "execution_count": 67,
   "id": "77a2936e",
   "metadata": {},
   "outputs": [],
   "source": [
    "numerical_cols = df.select_dtypes(include=['int64', 'float64'])"
   ]
  },
  {
   "cell_type": "code",
   "execution_count": 68,
   "id": "c56bc40a",
   "metadata": {},
   "outputs": [],
   "source": [
    "numerical_cols_list = numerical_cols.columns.tolist()"
   ]
  },
  {
   "cell_type": "code",
   "execution_count": 69,
   "id": "df191c2d",
   "metadata": {},
   "outputs": [
    {
     "data": {
      "text/plain": [
       "['Item_price',\n",
       " 'Tenure Bucket',\n",
       " 'CSAT Score',\n",
       " 'missing_order_time',\n",
       " 'missing_report_time',\n",
       " 'missing_response_time',\n",
       " 'response_time_hours',\n",
       " 'order_to_issue_hours',\n",
       " 'survey_delay_hours']"
      ]
     },
     "execution_count": 69,
     "metadata": {},
     "output_type": "execute_result"
    }
   ],
   "source": [
    "numerical_cols_list"
   ]
  },
  {
   "cell_type": "markdown",
   "id": "a8bf2544",
   "metadata": {},
   "source": [
    "# Check for skewness"
   ]
  },
  {
   "cell_type": "code",
   "execution_count": 80,
   "id": "44446a7e",
   "metadata": {},
   "outputs": [
    {
     "name": "stdout",
     "output_type": "stream",
     "text": [
      "Skewness of Item_price: 9.8405\n",
      "Skewness of Tenure Bucket: -0.0288\n",
      "Skewness of CSAT Score: -1.6707\n",
      "Skewness of missing_order_time: 0.0000\n",
      "Skewness of missing_report_time: 0.0000\n",
      "Skewness of missing_response_time: 0.0000\n",
      "Skewness of response_time_hours: -7.6319\n",
      "Skewness of order_to_issue_hours: 0.2130\n",
      "Skewness of survey_delay_hours: 1.1461\n"
     ]
    }
   ],
   "source": [
    "for col in numerical_cols_list:\n",
    "    # 1. Calculate skewness for the current column\n",
    "    pandas_skew = df[col].skew()\n",
    "    \n",
    "    # 2. Print the result for the current column\n",
    "    print(f\"Skewness of {col}: {pandas_skew:.4f}\")"
   ]
  },
  {
   "cell_type": "markdown",
   "id": "1d00a1ef",
   "metadata": {},
   "source": [
    "## Since there is skewness  we have to balance this."
   ]
  },
  {
   "cell_type": "markdown",
   "id": "51d9378a",
   "metadata": {},
   "source": [
    "## Handling Skwed Data"
   ]
  },
  {
   "cell_type": "code",
   "execution_count": null,
   "id": "a9830f49",
   "metadata": {},
   "outputs": [],
   "source": [
    "## TODO : 1. handel skewness\n",
    "## TODO : 2. handel imbalance data \n",
    "## TODO : 3. Encode categorical features\n",
    "## TODO : 4. scale numerical features  "
   ]
  }
 ],
 "metadata": {
  "kernelspec": {
   "display_name": ".venv",
   "language": "python",
   "name": "python3"
  },
  "language_info": {
   "codemirror_mode": {
    "name": "ipython",
    "version": 3
   },
   "file_extension": ".py",
   "mimetype": "text/x-python",
   "name": "python",
   "nbconvert_exporter": "python",
   "pygments_lexer": "ipython3",
   "version": "3.12.4"
  }
 },
 "nbformat": 4,
 "nbformat_minor": 5
}
